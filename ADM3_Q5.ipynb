{
 "cells": [
  {
   "cell_type": "markdown",
   "metadata": {},
   "source": [
    "## Q5 "
   ]
  },
  {
   "cell_type": "markdown",
   "metadata": {},
   "source": [
    "### Recursive program"
   ]
  },
  {
   "cell_type": "code",
   "execution_count": 30,
   "metadata": {},
   "outputs": [
    {
     "name": "stdout",
     "output_type": "stream",
     "text": [
      "Runtime of the program is 0.003364086151123047\n",
      "Runtime of the program is 0.10095024108886719\n",
      "Runtime of the program is 1.0042810440063477\n",
      "Runtime of the program is 53.044554233551025\n"
     ]
    }
   ],
   "source": [
    "import time\n",
    "import numpy as np\n",
    "\n",
    "def recur_seq(string):\n",
    "    \n",
    "    \"\"\" \n",
    "    Remember recursion means when call the function calls itself\n",
    "    https://www.geeksforgeeks.org/recursion/\n",
    "    https://www.techiedelight.com/longest-common-subsequence/\n",
    "    careful because: \"maximum recursion depth exceeded while calling a Python object\"\n",
    "    \"\"\"\n",
    "    # to avoid the \"maximum recursion\" thingy \n",
    "    if len(string)==1:\n",
    "\n",
    "        # this needs to be a list so you can append later\n",
    "        return list(string)\n",
    "    \n",
    "    else:\n",
    "        # this is where we \"start\" the recursion\n",
    "        seq = recur_seq(string[:len(string)-1])\n",
    "        \n",
    "        for char in seq:\n",
    "            if string[-1] > char[-1]:\n",
    "                seq.append(char + string[-1])\n",
    "                \n",
    "        seq.append(string[-1])\n",
    "\n",
    "    return seq\n",
    "\n",
    "\n",
    "start = time.time()\n",
    "recur_seq(\"CADFECEILGJHABN\")\n",
    "end = time.time()\n",
    "print(f\"Runtime of the program is {end - start}\")\n",
    "\n",
    "start = time.time()\n",
    "recur_seq(\"CADFECEILGJHABNOPSTIRYOEABILCNR\")\n",
    "end = time.time()\n",
    "print(f\"Runtime of the program is {end - start}\")\n",
    "\n",
    "start = time.time()\n",
    "recur_seq(\"CAAYBGDFECEIALOHALGJHABRAHNOPSTBEAOIRYOEABILBWAGASCNR\")\n",
    "end = time.time()\n",
    "print(f\"Runtime of the program is {end - start}\")\n",
    "\n",
    "start = time.time()\n",
    "recur_seq(\"CAAYBGDFECEIALOHALGJHABRAHNOPSTBEAOIRYOEABILBWAGASCNRCAAYBGDFECEIALOHALGJHABRAHNOPSTBEAOIRYOEABILBWAGASCNR\")\n",
    "end = time.time()\n",
    "print(f\"Runtime of the program is {end - start}\")\n"
   ]
  },
  {
   "cell_type": "markdown",
   "metadata": {},
   "source": [
    " We see that the running time is exponential."
   ]
  },
  {
   "cell_type": "markdown",
   "metadata": {},
   "source": [
    "### Dynamic Program"
   ]
  },
  {
   "cell_type": "code",
   "execution_count": null,
   "metadata": {},
   "outputs": [],
   "source": [
    "# https://www.geeksforgeeks.org/dynamic-programming/"
   ]
  }
 ],
 "metadata": {
  "kernelspec": {
   "display_name": "Python 3",
   "language": "python",
   "name": "python3"
  },
  "language_info": {
   "codemirror_mode": {
    "name": "ipython",
    "version": 3
   },
   "file_extension": ".py",
   "mimetype": "text/x-python",
   "name": "python",
   "nbconvert_exporter": "python",
   "pygments_lexer": "ipython3",
   "version": "3.8.3"
  }
 },
 "nbformat": 4,
 "nbformat_minor": 4
}
